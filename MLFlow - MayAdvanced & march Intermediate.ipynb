{
 "cells": [
  {
   "cell_type": "code",
   "execution_count": 1,
   "id": "ad9ed70c",
   "metadata": {},
   "outputs": [],
   "source": [
    "import pandas as pd\n",
    "import numpy as np"
   ]
  },
  {
   "cell_type": "code",
   "execution_count": 2,
   "id": "4a7db161",
   "metadata": {
    "scrolled": false
   },
   "outputs": [
    {
     "data": {
      "text/html": [
       "<div>\n",
       "<style scoped>\n",
       "    .dataframe tbody tr th:only-of-type {\n",
       "        vertical-align: middle;\n",
       "    }\n",
       "\n",
       "    .dataframe tbody tr th {\n",
       "        vertical-align: top;\n",
       "    }\n",
       "\n",
       "    .dataframe thead th {\n",
       "        text-align: right;\n",
       "    }\n",
       "</style>\n",
       "<table border=\"1\" class=\"dataframe\">\n",
       "  <thead>\n",
       "    <tr style=\"text-align: right;\">\n",
       "      <th></th>\n",
       "      <th>Loan_ID</th>\n",
       "      <th>Gender</th>\n",
       "      <th>Married</th>\n",
       "      <th>Dependents</th>\n",
       "      <th>Education</th>\n",
       "      <th>Self_Employed</th>\n",
       "      <th>ApplicantIncome</th>\n",
       "      <th>CoapplicantIncome</th>\n",
       "      <th>LoanAmount</th>\n",
       "      <th>Loan_Amount_Term</th>\n",
       "      <th>Credit_History</th>\n",
       "      <th>Property_Area</th>\n",
       "      <th>Loan_Status</th>\n",
       "    </tr>\n",
       "  </thead>\n",
       "  <tbody>\n",
       "    <tr>\n",
       "      <th>0</th>\n",
       "      <td>LP002529</td>\n",
       "      <td>Male</td>\n",
       "      <td>Yes</td>\n",
       "      <td>2</td>\n",
       "      <td>Graduate</td>\n",
       "      <td>No</td>\n",
       "      <td>6700</td>\n",
       "      <td>1750.0</td>\n",
       "      <td>230.0</td>\n",
       "      <td>300.0</td>\n",
       "      <td>1.0</td>\n",
       "      <td>Semiurban</td>\n",
       "      <td>Y</td>\n",
       "    </tr>\n",
       "    <tr>\n",
       "      <th>1</th>\n",
       "      <td>LP001385</td>\n",
       "      <td>Male</td>\n",
       "      <td>No</td>\n",
       "      <td>0</td>\n",
       "      <td>Graduate</td>\n",
       "      <td>No</td>\n",
       "      <td>5316</td>\n",
       "      <td>0.0</td>\n",
       "      <td>136.0</td>\n",
       "      <td>360.0</td>\n",
       "      <td>1.0</td>\n",
       "      <td>Urban</td>\n",
       "      <td>Y</td>\n",
       "    </tr>\n",
       "    <tr>\n",
       "      <th>2</th>\n",
       "      <td>LP001926</td>\n",
       "      <td>Male</td>\n",
       "      <td>Yes</td>\n",
       "      <td>0</td>\n",
       "      <td>Graduate</td>\n",
       "      <td>No</td>\n",
       "      <td>3704</td>\n",
       "      <td>2000.0</td>\n",
       "      <td>120.0</td>\n",
       "      <td>360.0</td>\n",
       "      <td>1.0</td>\n",
       "      <td>Rural</td>\n",
       "      <td>Y</td>\n",
       "    </tr>\n",
       "    <tr>\n",
       "      <th>3</th>\n",
       "      <td>LP001144</td>\n",
       "      <td>Male</td>\n",
       "      <td>Yes</td>\n",
       "      <td>0</td>\n",
       "      <td>Graduate</td>\n",
       "      <td>No</td>\n",
       "      <td>5821</td>\n",
       "      <td>0.0</td>\n",
       "      <td>144.0</td>\n",
       "      <td>360.0</td>\n",
       "      <td>1.0</td>\n",
       "      <td>Urban</td>\n",
       "      <td>Y</td>\n",
       "    </tr>\n",
       "    <tr>\n",
       "      <th>4</th>\n",
       "      <td>LP002562</td>\n",
       "      <td>Male</td>\n",
       "      <td>Yes</td>\n",
       "      <td>1</td>\n",
       "      <td>Not Graduate</td>\n",
       "      <td>No</td>\n",
       "      <td>5333</td>\n",
       "      <td>1131.0</td>\n",
       "      <td>186.0</td>\n",
       "      <td>360.0</td>\n",
       "      <td>NaN</td>\n",
       "      <td>Urban</td>\n",
       "      <td>Y</td>\n",
       "    </tr>\n",
       "  </tbody>\n",
       "</table>\n",
       "</div>"
      ],
      "text/plain": [
       "    Loan_ID Gender Married Dependents     Education Self_Employed  \\\n",
       "0  LP002529   Male     Yes          2      Graduate            No   \n",
       "1  LP001385   Male      No          0      Graduate            No   \n",
       "2  LP001926   Male     Yes          0      Graduate            No   \n",
       "3  LP001144   Male     Yes          0      Graduate            No   \n",
       "4  LP002562   Male     Yes          1  Not Graduate            No   \n",
       "\n",
       "   ApplicantIncome  CoapplicantIncome  LoanAmount  Loan_Amount_Term  \\\n",
       "0             6700             1750.0       230.0             300.0   \n",
       "1             5316                0.0       136.0             360.0   \n",
       "2             3704             2000.0       120.0             360.0   \n",
       "3             5821                0.0       144.0             360.0   \n",
       "4             5333             1131.0       186.0             360.0   \n",
       "\n",
       "   Credit_History Property_Area Loan_Status  \n",
       "0             1.0     Semiurban           Y  \n",
       "1             1.0         Urban           Y  \n",
       "2             1.0         Rural           Y  \n",
       "3             1.0         Urban           Y  \n",
       "4             NaN         Urban           Y  "
      ]
     },
     "execution_count": 2,
     "metadata": {},
     "output_type": "execute_result"
    }
   ],
   "source": [
    "train_df = pd.read_csv('data.csv') \n",
    "train_df.head()"
   ]
  },
  {
   "cell_type": "code",
   "execution_count": 3,
   "id": "39d1012b",
   "metadata": {},
   "outputs": [],
   "source": [
    "#Encoding\n",
    "train_df['Gender']= train_df['Gender'].map({'Male':0, 'Female':1})\n",
    "train_df['Married']= train_df['Married'].map({'No':0, 'Yes':1})\n",
    "train_df['Loan_Status']= train_df['Loan_Status'].map({'N':0, 'Y':1})\n"
   ]
  },
  {
   "cell_type": "code",
   "execution_count": 4,
   "id": "c8bb2c17",
   "metadata": {},
   "outputs": [
    {
     "name": "stdout",
     "output_type": "stream",
     "text": [
      "<class 'pandas.core.frame.DataFrame'>\n",
      "RangeIndex: 430 entries, 0 to 429\n",
      "Data columns (total 13 columns):\n",
      " #   Column             Non-Null Count  Dtype  \n",
      "---  ------             --------------  -----  \n",
      " 0   Loan_ID            430 non-null    object \n",
      " 1   Gender             420 non-null    float64\n",
      " 2   Married            427 non-null    float64\n",
      " 3   Dependents         416 non-null    object \n",
      " 4   Education          430 non-null    object \n",
      " 5   Self_Employed      410 non-null    object \n",
      " 6   ApplicantIncome    430 non-null    int64  \n",
      " 7   CoapplicantIncome  430 non-null    float64\n",
      " 8   LoanAmount         414 non-null    float64\n",
      " 9   Loan_Amount_Term   422 non-null    float64\n",
      " 10  Credit_History     394 non-null    float64\n",
      " 11  Property_Area      430 non-null    object \n",
      " 12  Loan_Status        430 non-null    int64  \n",
      "dtypes: float64(6), int64(2), object(5)\n",
      "memory usage: 43.8+ KB\n"
     ]
    }
   ],
   "source": [
    "train_df.info()\n"
   ]
  },
  {
   "cell_type": "code",
   "execution_count": 5,
   "id": "311ef6e6",
   "metadata": {},
   "outputs": [
    {
     "data": {
      "text/plain": [
       "Loan_ID              0\n",
       "Gender               0\n",
       "Married              0\n",
       "Dependents           0\n",
       "Education            0\n",
       "Self_Employed        0\n",
       "ApplicantIncome      0\n",
       "CoapplicantIncome    0\n",
       "LoanAmount           0\n",
       "Loan_Amount_Term     0\n",
       "Credit_History       0\n",
       "Property_Area        0\n",
       "Loan_Status          0\n",
       "dtype: int64"
      ]
     },
     "execution_count": 5,
     "metadata": {},
     "output_type": "execute_result"
    }
   ],
   "source": [
    "\n",
    "\n",
    "## Checking for Missing Values\n",
    "\n",
    "train_df.isnull().sum()\n",
    "\n",
    "## dropping all the missing values\n",
    "train_df = train_df.dropna()\n",
    "train_df.isnull().sum()"
   ]
  },
  {
   "cell_type": "code",
   "execution_count": 6,
   "id": "dbeac96b",
   "metadata": {},
   "outputs": [
    {
     "data": {
      "text/plain": [
       "((335, 5), (335,))"
      ]
     },
     "execution_count": 6,
     "metadata": {},
     "output_type": "execute_result"
    }
   ],
   "source": [
    "\n",
    "## Segregating the target variable from the features\n",
    "\n",
    "X = train_df[['Gender', 'Married', 'ApplicantIncome', 'LoanAmount', 'Credit_History']]\n",
    "y = train_df.Loan_Status\n",
    "X.shape, y.shape\n",
    "\n"
   ]
  },
  {
   "cell_type": "code",
   "execution_count": 7,
   "id": "d34aea15",
   "metadata": {},
   "outputs": [],
   "source": [
    "\n",
    "\n",
    "## Splitting the data\n",
    "\n",
    "from sklearn.model_selection import train_test_split\n",
    "\n",
    "X_train, X_val, y_train, y_val = train_test_split(X, y, test_size=0.2, random_state=5)"
   ]
  },
  {
   "cell_type": "code",
   "execution_count": 8,
   "id": "2f43be21",
   "metadata": {},
   "outputs": [
    {
     "data": {
      "text/plain": [
       "RandomForestClassifier(max_depth=4, random_state=5)"
      ]
     },
     "execution_count": 8,
     "metadata": {},
     "output_type": "execute_result"
    }
   ],
   "source": [
    "## Model Training\n",
    "\n",
    "from sklearn.ensemble import RandomForestClassifier\n",
    "\n",
    "model = RandomForestClassifier(max_depth=4, random_state=5)\n",
    "model.fit(X_train, y_train)\n"
   ]
  },
  {
   "cell_type": "code",
   "execution_count": 9,
   "id": "8ca8f59f",
   "metadata": {},
   "outputs": [
    {
     "data": {
      "text/plain": [
       "0.7313432835820896"
      ]
     },
     "execution_count": 9,
     "metadata": {},
     "output_type": "execute_result"
    }
   ],
   "source": [
    "\n",
    "## Cross Validation\n",
    "\n",
    "from sklearn.metrics import accuracy_score\n",
    "\n",
    "pred_val = model.predict(X_val)\n",
    "accuracy_score(y_val, pred_val)"
   ]
  },
  {
   "cell_type": "code",
   "execution_count": 10,
   "id": "bc624c61",
   "metadata": {},
   "outputs": [
    {
     "name": "stdout",
     "output_type": "stream",
     "text": [
      "Requirement already satisfied: mlflow in /Users/suraaj/opt/anaconda3/lib/python3.9/site-packages (2.2.0)\n",
      "Requirement already satisfied: protobuf<5,>=3.12.0 in /Users/suraaj/opt/anaconda3/lib/python3.9/site-packages (from mlflow) (4.21.12)\n",
      "Requirement already satisfied: numpy<2 in /Users/suraaj/opt/anaconda3/lib/python3.9/site-packages (from mlflow) (1.21.5)\n",
      "Requirement already satisfied: Jinja2<4,>=2.11 in /Users/suraaj/opt/anaconda3/lib/python3.9/site-packages (from mlflow) (2.11.3)\n",
      "Requirement already satisfied: alembic<2 in /Users/suraaj/opt/anaconda3/lib/python3.9/site-packages (from mlflow) (1.9.4)\n",
      "Requirement already satisfied: cloudpickle<3 in /Users/suraaj/opt/anaconda3/lib/python3.9/site-packages (from mlflow) (2.0.0)\n",
      "Requirement already satisfied: querystring-parser<2 in /Users/suraaj/opt/anaconda3/lib/python3.9/site-packages (from mlflow) (1.2.4)\n",
      "Requirement already satisfied: matplotlib<4 in /Users/suraaj/opt/anaconda3/lib/python3.9/site-packages (from mlflow) (3.5.1)\n",
      "Requirement already satisfied: entrypoints<1 in /Users/suraaj/opt/anaconda3/lib/python3.9/site-packages (from mlflow) (0.4)\n",
      "Requirement already satisfied: click<9,>=7.0 in /Users/suraaj/opt/anaconda3/lib/python3.9/site-packages (from mlflow) (8.0.4)\n",
      "Requirement already satisfied: docker<7,>=4.0.0 in /Users/suraaj/opt/anaconda3/lib/python3.9/site-packages (from mlflow) (6.0.1)\n",
      "Requirement already satisfied: pandas<3 in /Users/suraaj/opt/anaconda3/lib/python3.9/site-packages (from mlflow) (1.4.2)\n",
      "Requirement already satisfied: pyyaml<7,>=5.1 in /Users/suraaj/opt/anaconda3/lib/python3.9/site-packages (from mlflow) (5.4.1)\n",
      "Requirement already satisfied: pytz<2023 in /Users/suraaj/opt/anaconda3/lib/python3.9/site-packages (from mlflow) (2021.3)\n",
      "Requirement already satisfied: shap<1,>=0.40 in /Users/suraaj/opt/anaconda3/lib/python3.9/site-packages (from mlflow) (0.41.0)\n",
      "Requirement already satisfied: sqlparse<1,>=0.4.0 in /Users/suraaj/opt/anaconda3/lib/python3.9/site-packages (from mlflow) (0.4.3)\n",
      "Requirement already satisfied: scipy<2 in /Users/suraaj/opt/anaconda3/lib/python3.9/site-packages (from mlflow) (1.7.3)\n",
      "Requirement already satisfied: packaging<24 in /Users/suraaj/opt/anaconda3/lib/python3.9/site-packages (from mlflow) (21.3)\n",
      "Requirement already satisfied: sqlalchemy<3,>=1.4.0 in /Users/suraaj/opt/anaconda3/lib/python3.9/site-packages (from mlflow) (1.4.32)\n",
      "Requirement already satisfied: databricks-cli<1,>=0.8.7 in /Users/suraaj/opt/anaconda3/lib/python3.9/site-packages (from mlflow) (0.17.4)\n",
      "Requirement already satisfied: pyarrow<12,>=4.0.0 in /Users/suraaj/opt/anaconda3/lib/python3.9/site-packages (from mlflow) (10.0.1)\n",
      "Requirement already satisfied: Flask<3 in /Users/suraaj/opt/anaconda3/lib/python3.9/site-packages (from mlflow) (1.1.2)\n",
      "Requirement already satisfied: scikit-learn<2 in /Users/suraaj/opt/anaconda3/lib/python3.9/site-packages (from mlflow) (1.0.2)\n",
      "Requirement already satisfied: markdown<4,>=3.3 in /Users/suraaj/opt/anaconda3/lib/python3.9/site-packages (from mlflow) (3.3.4)\n",
      "Requirement already satisfied: requests<3,>=2.17.3 in /Users/suraaj/opt/anaconda3/lib/python3.9/site-packages (from mlflow) (2.27.1)\n",
      "Requirement already satisfied: gunicorn<21 in /Users/suraaj/opt/anaconda3/lib/python3.9/site-packages (from mlflow) (20.1.0)\n",
      "Requirement already satisfied: gitpython<4,>=2.1.0 in /Users/suraaj/opt/anaconda3/lib/python3.9/site-packages (from mlflow) (3.1.31)\n",
      "Requirement already satisfied: importlib-metadata!=4.7.0,<7,>=3.7.0 in /Users/suraaj/opt/anaconda3/lib/python3.9/site-packages (from mlflow) (4.11.3)\n",
      "Requirement already satisfied: Mako in /Users/suraaj/opt/anaconda3/lib/python3.9/site-packages (from alembic<2->mlflow) (1.2.4)\n",
      "Requirement already satisfied: oauthlib>=3.1.0 in /Users/suraaj/opt/anaconda3/lib/python3.9/site-packages (from databricks-cli<1,>=0.8.7->mlflow) (3.2.0)\n",
      "Requirement already satisfied: six>=1.10.0 in /Users/suraaj/opt/anaconda3/lib/python3.9/site-packages (from databricks-cli<1,>=0.8.7->mlflow) (1.16.0)\n",
      "Requirement already satisfied: tabulate>=0.7.7 in /Users/suraaj/opt/anaconda3/lib/python3.9/site-packages (from databricks-cli<1,>=0.8.7->mlflow) (0.8.9)\n",
      "Requirement already satisfied: pyjwt>=1.7.0 in /Users/suraaj/opt/anaconda3/lib/python3.9/site-packages (from databricks-cli<1,>=0.8.7->mlflow) (2.1.0)\n",
      "Requirement already satisfied: urllib3>=1.26.0 in /Users/suraaj/opt/anaconda3/lib/python3.9/site-packages (from docker<7,>=4.0.0->mlflow) (1.26.13)\n",
      "Requirement already satisfied: websocket-client>=0.32.0 in /Users/suraaj/opt/anaconda3/lib/python3.9/site-packages (from docker<7,>=4.0.0->mlflow) (0.58.0)\n",
      "Requirement already satisfied: Werkzeug>=0.15 in /Users/suraaj/opt/anaconda3/lib/python3.9/site-packages (from Flask<3->mlflow) (2.0.3)\n",
      "Requirement already satisfied: itsdangerous>=0.24 in /Users/suraaj/opt/anaconda3/lib/python3.9/site-packages (from Flask<3->mlflow) (2.0.1)\n",
      "Requirement already satisfied: gitdb<5,>=4.0.1 in /Users/suraaj/opt/anaconda3/lib/python3.9/site-packages (from gitpython<4,>=2.1.0->mlflow) (4.0.10)\n",
      "Requirement already satisfied: smmap<6,>=3.0.1 in /Users/suraaj/opt/anaconda3/lib/python3.9/site-packages (from gitdb<5,>=4.0.1->gitpython<4,>=2.1.0->mlflow) (5.0.0)\n",
      "Requirement already satisfied: setuptools>=3.0 in /Users/suraaj/opt/anaconda3/lib/python3.9/site-packages (from gunicorn<21->mlflow) (61.2.0)\n",
      "Requirement already satisfied: zipp>=0.5 in /Users/suraaj/opt/anaconda3/lib/python3.9/site-packages (from importlib-metadata!=4.7.0,<7,>=3.7.0->mlflow) (3.7.0)\n",
      "Requirement already satisfied: MarkupSafe>=0.23 in /Users/suraaj/opt/anaconda3/lib/python3.9/site-packages (from Jinja2<4,>=2.11->mlflow) (2.0.1)\n",
      "Requirement already satisfied: cycler>=0.10 in /Users/suraaj/opt/anaconda3/lib/python3.9/site-packages (from matplotlib<4->mlflow) (0.11.0)\n",
      "Requirement already satisfied: pillow>=6.2.0 in /Users/suraaj/opt/anaconda3/lib/python3.9/site-packages (from matplotlib<4->mlflow) (9.0.1)\n",
      "Requirement already satisfied: fonttools>=4.22.0 in /Users/suraaj/opt/anaconda3/lib/python3.9/site-packages (from matplotlib<4->mlflow) (4.25.0)\n",
      "Requirement already satisfied: pyparsing>=2.2.1 in /Users/suraaj/opt/anaconda3/lib/python3.9/site-packages (from matplotlib<4->mlflow) (3.0.4)\n",
      "Requirement already satisfied: kiwisolver>=1.0.1 in /Users/suraaj/opt/anaconda3/lib/python3.9/site-packages (from matplotlib<4->mlflow) (1.3.2)\n",
      "Requirement already satisfied: python-dateutil>=2.7 in /Users/suraaj/opt/anaconda3/lib/python3.9/site-packages (from matplotlib<4->mlflow) (2.8.2)\n",
      "Requirement already satisfied: idna<4,>=2.5 in /Users/suraaj/opt/anaconda3/lib/python3.9/site-packages (from requests<3,>=2.17.3->mlflow) (3.4)\n",
      "Requirement already satisfied: charset-normalizer~=2.0.0 in /Users/suraaj/opt/anaconda3/lib/python3.9/site-packages (from requests<3,>=2.17.3->mlflow) (2.0.4)\n",
      "Requirement already satisfied: certifi>=2017.4.17 in /Users/suraaj/opt/anaconda3/lib/python3.9/site-packages (from requests<3,>=2.17.3->mlflow) (2022.9.24)\n",
      "Requirement already satisfied: joblib>=0.11 in /Users/suraaj/opt/anaconda3/lib/python3.9/site-packages (from scikit-learn<2->mlflow) (1.1.0)\n",
      "Requirement already satisfied: threadpoolctl>=2.0.0 in /Users/suraaj/opt/anaconda3/lib/python3.9/site-packages (from scikit-learn<2->mlflow) (2.2.0)\n",
      "Requirement already satisfied: slicer==0.0.7 in /Users/suraaj/opt/anaconda3/lib/python3.9/site-packages (from shap<1,>=0.40->mlflow) (0.0.7)\n",
      "Requirement already satisfied: tqdm>4.25.0 in /Users/suraaj/opt/anaconda3/lib/python3.9/site-packages (from shap<1,>=0.40->mlflow) (4.64.0)\n",
      "Requirement already satisfied: numba in /Users/suraaj/opt/anaconda3/lib/python3.9/site-packages (from shap<1,>=0.40->mlflow) (0.55.1)\n",
      "Requirement already satisfied: greenlet!=0.4.17 in /Users/suraaj/opt/anaconda3/lib/python3.9/site-packages (from sqlalchemy<3,>=1.4.0->mlflow) (1.1.1)\n",
      "Requirement already satisfied: llvmlite<0.39,>=0.38.0rc1 in /Users/suraaj/opt/anaconda3/lib/python3.9/site-packages (from numba->shap<1,>=0.40->mlflow) (0.38.0)\n"
     ]
    }
   ],
   "source": [
    "!pip install mlflow"
   ]
  },
  {
   "cell_type": "code",
   "execution_count": 11,
   "id": "1c8ea250",
   "metadata": {},
   "outputs": [],
   "source": [
    "import mlflow"
   ]
  },
  {
   "cell_type": "code",
   "execution_count": 12,
   "id": "37308816",
   "metadata": {},
   "outputs": [
    {
     "data": {
      "text/plain": [
       "<Experiment: artifact_location='file:///Users/suraaj/Desktop/MLFLOW/mlruns/320424235992953562', creation_time=1677772894519, experiment_id='320424235992953562', last_update_time=1677772894519, lifecycle_stage='active', name='Loan Status', tags={}>"
      ]
     },
     "execution_count": 12,
     "metadata": {},
     "output_type": "execute_result"
    }
   ],
   "source": [
    "mlflow.set_experiment(\"Loan Status\")"
   ]
  },
  {
   "cell_type": "code",
   "execution_count": 23,
   "id": "7fce2655",
   "metadata": {},
   "outputs": [
    {
     "name": "stderr",
     "output_type": "stream",
     "text": [
      "/Users/suraaj/opt/anaconda3/lib/python3.9/site-packages/_distutils_hack/__init__.py:30: UserWarning: Setuptools is replacing distutils.\n",
      "  warnings.warn(\"Setuptools is replacing distutils.\")\n"
     ]
    }
   ],
   "source": [
    "with mlflow.start_run():\n",
    "    #training the model\n",
    "    model = RandomForestClassifier(max_depth=4, random_state=5)\n",
    "    model.fit(X_train, y_train)\n",
    "    \n",
    "    #capture the evaluation metrics\n",
    "    pred_val = model.predict(X_val)\n",
    "    val_acc=accuracy_score(y_val, pred_val)\n",
    "    \n",
    "    #capture the training metrics\n",
    "    pred_train = model.predict(X_train)\n",
    "    train_acc=accuracy_score(y_train, pred_train)\n",
    "    \n",
    "    \n",
    "    mlflow.set_tag('mlflow.runName','Random Forest First Run')\n",
    "    mlflow.log_param(\"max_depth\", 4)\n",
    "    mlflow.log_metric(\"Val Acc\", val_acc)\n",
    "    mlflow.log_metric(\"Train Acc\", train_acc)\n",
    "    \n",
    "    mlflow.sklearn.log_model(model, \"Model\")\n",
    "    \n",
    "    \n",
    "    "
   ]
  },
  {
   "cell_type": "code",
   "execution_count": 24,
   "id": "de72e136",
   "metadata": {},
   "outputs": [
    {
     "name": "stdout",
     "output_type": "stream",
     "text": [
      "[2023-03-02 21:43:09 +0530] [64833] [INFO] Starting gunicorn 20.1.0\n",
      "[2023-03-02 21:43:09 +0530] [64833] [ERROR] Connection in use: ('127.0.0.1', 5000)\n",
      "[2023-03-02 21:43:09 +0530] [64833] [ERROR] Retrying in 1 second.\n",
      "[2023-03-02 21:43:10 +0530] [64833] [ERROR] Connection in use: ('127.0.0.1', 5000)\n",
      "[2023-03-02 21:43:10 +0530] [64833] [ERROR] Retrying in 1 second.\n",
      "[2023-03-02 21:43:11 +0530] [64833] [ERROR] Connection in use: ('127.0.0.1', 5000)\n",
      "[2023-03-02 21:43:11 +0530] [64833] [ERROR] Retrying in 1 second.\n",
      "[2023-03-02 21:43:12 +0530] [64833] [ERROR] Connection in use: ('127.0.0.1', 5000)\n",
      "[2023-03-02 21:43:12 +0530] [64833] [ERROR] Retrying in 1 second.\n",
      "[2023-03-02 21:43:13 +0530] [64833] [ERROR] Connection in use: ('127.0.0.1', 5000)\n",
      "[2023-03-02 21:43:13 +0530] [64833] [ERROR] Retrying in 1 second.\n",
      "[2023-03-02 21:43:14 +0530] [64833] [ERROR] Can't connect to ('127.0.0.1', 5000)\n",
      "Running the mlflow server failed. Please see the logs above for details.\n"
     ]
    }
   ],
   "source": [
    "!mlflow ui"
   ]
  },
  {
   "cell_type": "code",
   "execution_count": 13,
   "id": "ca0bfb69",
   "metadata": {},
   "outputs": [],
   "source": [
    "def model_func(n_est, max_dep, i):\n",
    "    with mlflow.start_run():\n",
    "        model = RandomForestClassifier(max_depth=max_dep, n_estimators=n_est, random_state=5)\n",
    "        model.fit(X_train, y_train)\n",
    "\n",
    "        #capture the evaluation metrics\n",
    "        pred_val = model.predict(X_val)\n",
    "        val_acc=accuracy_score(y_val, pred_val)\n",
    "\n",
    "        #capture the training metrics\n",
    "        pred_train = model.predict(X_train)\n",
    "        train_acc=accuracy_score(y_train, pred_train)\n",
    "\n",
    "        run_name=f\"Hyperparameter tuning version_{i}\"\n",
    "        mlflow.set_tag('mlflow.runName', run_name)\n",
    "        mlflow.log_param(\"max_depth\", max_dep)\n",
    "        mlflow.log_param(\"n_estimator\", n_est)\n",
    "        mlflow.log_metric(\"Val Acc\", val_acc)\n",
    "        mlflow.log_metric(\"Train Acc\", train_acc)\n",
    "\n",
    "        mlflow.sklearn.log_model(model, \"Model\")\n",
    "\n",
    "    "
   ]
  },
  {
   "cell_type": "code",
   "execution_count": 14,
   "id": "e0f2a2df",
   "metadata": {},
   "outputs": [
    {
     "name": "stderr",
     "output_type": "stream",
     "text": [
      "/Users/suraaj/opt/anaconda3/lib/python3.9/site-packages/_distutils_hack/__init__.py:30: UserWarning: Setuptools is replacing distutils.\n",
      "  warnings.warn(\"Setuptools is replacing distutils.\")\n"
     ]
    }
   ],
   "source": [
    "model_func(10,2,1)\n",
    "model_func(20,2,2)\n",
    "model_func(30,2,3)\n",
    "model_func(40,2,4)\n",
    "model_func(50,2,5)\n",
    "model_func(60,2,6)\n",
    "model_func(10,4,7)\n",
    "model_func(20,4,8)\n",
    "model_func(30,4,9)\n",
    "model_func(20,8,10)\n",
    "model_func(40,8,11)\n",
    "model_func(60,8,12)\n",
    "\n"
   ]
  },
  {
   "cell_type": "code",
   "execution_count": null,
   "id": "5685b05b",
   "metadata": {},
   "outputs": [],
   "source": [
    "1. #Change the data\n",
    "2. #KNN classifier"
   ]
  },
  {
   "cell_type": "code",
   "execution_count": 16,
   "id": "0c023427",
   "metadata": {},
   "outputs": [],
   "source": [
    "from sklearn.neighbors import KNeighborsClassifier\n",
    "from sklearn.metrics import ConfusionMatrixDisplay\n",
    "import matplotlib.pyplot as plt\n",
    "\n",
    "\n",
    "def model_func_KNN():\n",
    "    with mlflow.start_run():\n",
    "        model = KNeighborsClassifier(n_neighbors=5)\n",
    "        model.fit(X_train, y_train)\n",
    "\n",
    "        #capture the evaluation metrics\n",
    "        pred_val = model.predict(X_val)\n",
    "        val_acc=accuracy_score(y_val, pred_val)\n",
    "\n",
    "        #capture the training metrics\n",
    "        pred_train = model.predict(X_train)\n",
    "        train_acc=accuracy_score(y_train, pred_train)\n",
    "\n",
    "        mlflow.set_tag('mlflow.runName', 'KNN Model')\n",
    "        mlflow.log_param(\"neighbors\", 5)\n",
    "        mlflow.log_metric(\"Val Acc\", val_acc)\n",
    "        mlflow.log_metric(\"Train Acc\", train_acc)\n",
    "        \n",
    "        cm = ConfusionMatrixDisplay.from_predictions(y_val, pred_val)\n",
    "        mlflow.log_artifact(\"Confusion Matrix.jpg\") \n",
    "\n",
    "        mlflow.sklearn.log_model(model, \"Model\")\n"
   ]
  },
  {
   "cell_type": "code",
   "execution_count": 17,
   "id": "5a2ac195",
   "metadata": {},
   "outputs": [
    {
     "data": {
      "image/png": "[encoded data removed]",
      "text/plain": [
       "<Figure size 432x288 with 2 Axes>"
      ]
     },
     "metadata": {
      "needs_background": "light"
     },
     "output_type": "display_data"
    }
   ],
   "source": [
    "model_func_KNN()"
   ]
  },
  {
   "cell_type": "code",
   "execution_count": 22,
   "id": "3090bcb0",
   "metadata": {},
   "outputs": [],
   "source": [
    "from sklearn.neighbors import KNeighborsClassifier\n",
    "from sklearn.metrics import ConfusionMatrixDisplay\n",
    "import matplotlib.pyplot as plt\n",
    "\n",
    "\n",
    "def model_func_KNN():\n",
    "    with mlflow.start_run():\n",
    "        model = KNeighborsClassifier(n_neighbors=5)\n",
    "        model.fit(X_train, y_train)\n",
    "\n",
    "        #capture the evaluation metrics\n",
    "        pred_val = model.predict(X_val)\n",
    "        val_acc=accuracy_score(y_val, pred_val)\n",
    "\n",
    "        #capture the training metrics\n",
    "        pred_train = model.predict(X_train)\n",
    "        train_acc=accuracy_score(y_train, pred_train)\n",
    "\n",
    "        mlflow.set_tag('mlflow.runName', 'KNN Model')\n",
    "        mlflow.log_param(\"neighbors\", 5)\n",
    "        mlflow.log_metric(\"Val Acc\", val_acc)\n",
    "        mlflow.log_metric(\"Train Acc\", train_acc)\n",
    "        \n",
    "        cm = ConfusionMatrixDisplay.from_predictions(y_val, pred_val)\n",
    "        mlflow.log_artifact(\"Confusion Matrix.jpg\")\n",
    "        \n",
    "        df=pd.read_csv('data_new.csv')\n",
    "        \n",
    "        check=df.to_csv('new_data.csv')\n",
    "        mlflow.log_artifact('new_data.csv')\n",
    "\n",
    "        mlflow.sklearn.log_model(model, \"Model\")\n"
   ]
  },
  {
   "cell_type": "code",
   "execution_count": 23,
   "id": "123023b2",
   "metadata": {},
   "outputs": [
    {
     "data": {
      "image/png": "[encoded data removed]",
      "text/plain": [
       "<Figure size 432x288 with 2 Axes>"
      ]
     },
     "metadata": {
      "needs_background": "light"
     },
     "output_type": "display_data"
    }
   ],
   "source": [
    "model_func_KNN()"
   ]
  },
  {
   "cell_type": "code",
   "execution_count": null,
   "id": "4faf63d7",
   "metadata": {},
   "outputs": [],
   "source": [
    "#EC2 instance --- VM\n",
    "#Jupyter notebook\n",
    "#S3 location"
   ]
  },
  {
   "cell_type": "code",
   "execution_count": null,
   "id": "906591b0",
   "metadata": {},
   "outputs": [],
   "source": [
    "#sagemaker"
   ]
  },
  {
   "cell_type": "code",
   "execution_count": null,
   "id": "69552dfb",
   "metadata": {},
   "outputs": [],
   "source": [
    "#S3 folder"
   ]
  }
 ],
 "metadata": {
  "kernelspec": {
   "display_name": "Python 3",
   "language": "python",
   "name": "python3"
  },
  "language_info": {
   "codemirror_mode": {
    "name": "ipython",
    "version": 3
   },
   "file_extension": ".py",
   "mimetype": "text/x-python",
   "name": "python",
   "nbconvert_exporter": "python",
   "pygments_lexer": "ipython3",
   "version": "3.9.12"
  }
 },
 "nbformat": 4,
 "nbformat_minor": 5
}
